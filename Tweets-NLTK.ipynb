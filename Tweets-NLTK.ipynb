{
 "cells": [
  {
   "cell_type": "markdown",
   "metadata": {},
   "source": [
    "# Feeling Bitcoin\n",
    "\n",
    "In this assignment, you will investigate the changing sentiment of Twitter users when it comes to one of its most buzzworthy topics: Bitcoin. Your firm currently sells products exclusively online and is researching whether now is the right time to incorporate cryptocurrencies as a payment method. While another member on the team is focused on crunching the financial numbers, you are tasked with trying to capture how the market _feels_ about bitcoin in the present moment.\n",
    "\n",
    "To that end, you have been tasked to:\n",
    "\n",
    "- Use the VADER model to calculate the proportion of positive, negative, and neutral Twitter comments made during the time period of the dataset.\n",
    "- Investigate the adjectives most often used by users when discussing bitcoin in order to understand the type of language used in the crypto space.\n",
    "\n",
    "To complete this task you will be given a csv of tweets that reference or use the #bitcoin hashtag over the last few years. One of your teammates has already done the work of cleaning the data in the file. Your team would like you to use the **NLTK** library to analyze how many of those tweets contain positive, negative, and neutral sentiments, respectively, in order to approximate market sentiment. You will then analyze the most frequent adjectives used in those tweets for marketing to associate with the company's messaging."
   ]
  },
  {
   "cell_type": "code",
   "execution_count": 1,
   "metadata": {},
   "outputs": [],
   "source": [
    "# Libraries Needed\n",
    "import spacy\n",
    "import en_core_web_sm\n",
    "import nltk\n",
    "from nltk.sentiment.vader import SentimentIntensityAnalyzer\n",
    "import pandas as pd\n",
    "from collections import Counter"
   ]
  },
  {
   "cell_type": "markdown",
   "metadata": {},
   "source": [
    "## Part 1: Vader Model"
   ]
  },
  {
   "cell_type": "markdown",
   "metadata": {},
   "source": [
    "### Preparing Data and Model\n",
    "\n",
    "To get started with our analysis, we'll need to first instantiate the VADER model and fill it with the appropriate lexicon in order to use with our data. We'll also need to import our data from the csv file we received.\n",
    "\n",
    "- Use NLTK to `.download()` the `vader_lexicon` in order to set up the rules for nltk to appropriately score words\n",
    "- Instantiate a `SentimentIntensity Analyzer` into a variable `analyzer`\n",
    "- Use pandas' `.read_csv()` to read in the cleaned data to a variable `df`"
   ]
  },
  {
   "cell_type": "code",
   "execution_count": 3,
   "metadata": {},
   "outputs": [
    {
     "name": "stderr",
     "output_type": "stream",
     "text": [
      "[nltk_data] Downloading package vader_lexicon to\n",
      "[nltk_data]     /Users/MacBookPro/nltk_data...\n",
      "[nltk_data]   Package vader_lexicon is already up-to-date!\n"
     ]
    }
   ],
   "source": [
    "# TODO: Use NLTK's download method to download the vader lexicon\n",
    "nltk.download('vader_lexicon')\n",
    "# TODO: Instantiate the SentimentIntensityAnalyzer into a variable analyzer\n",
    "analyzer = SentimentIntensityAnalyzer()"
   ]
  },
  {
   "cell_type": "code",
   "execution_count": 4,
   "metadata": {},
   "outputs": [
    {
     "data": {
      "text/html": [
       "<div>\n",
       "<style scoped>\n",
       "    .dataframe tbody tr th:only-of-type {\n",
       "        vertical-align: middle;\n",
       "    }\n",
       "\n",
       "    .dataframe tbody tr th {\n",
       "        vertical-align: top;\n",
       "    }\n",
       "\n",
       "    .dataframe thead th {\n",
       "        text-align: right;\n",
       "    }\n",
       "</style>\n",
       "<table border=\"1\" class=\"dataframe\">\n",
       "  <thead>\n",
       "    <tr style=\"text-align: right;\">\n",
       "      <th></th>\n",
       "      <th>Unnamed: 0.1</th>\n",
       "      <th>Unnamed: 0</th>\n",
       "      <th>id</th>\n",
       "      <th>timestamp</th>\n",
       "      <th>user</th>\n",
       "      <th>replies</th>\n",
       "      <th>likes</th>\n",
       "      <th>retweets</th>\n",
       "      <th>text</th>\n",
       "    </tr>\n",
       "  </thead>\n",
       "  <tbody>\n",
       "    <tr>\n",
       "      <th>0</th>\n",
       "      <td>105027</td>\n",
       "      <td>5625766</td>\n",
       "      <td>9.393023e+17</td>\n",
       "      <td>2017-12-09 00:14:51+00</td>\n",
       "      <td>BitcoinPoll</td>\n",
       "      <td>0.0</td>\n",
       "      <td>0.0</td>\n",
       "      <td>0.0</td>\n",
       "      <td>$LTC to doubled its value soon? #Litecoins #bi...</td>\n",
       "    </tr>\n",
       "    <tr>\n",
       "      <th>1</th>\n",
       "      <td>36386</td>\n",
       "      <td>2251044</td>\n",
       "      <td>8.857079e+17</td>\n",
       "      <td>2017-07-14 01:49:54+00</td>\n",
       "      <td>aimanstronk_</td>\n",
       "      <td>0.0</td>\n",
       "      <td>0.0</td>\n",
       "      <td>0.0</td>\n",
       "      <td>Tukar ke bitcoin. Lpstu tukar bitcoin ke RM. s...</td>\n",
       "    </tr>\n",
       "    <tr>\n",
       "      <th>2</th>\n",
       "      <td>141547</td>\n",
       "      <td>3797663</td>\n",
       "      <td>9.607030e+17</td>\n",
       "      <td>2018-02-06 01:33:36+00</td>\n",
       "      <td>WBlizters</td>\n",
       "      <td>0.0</td>\n",
       "      <td>1.0</td>\n",
       "      <td>0.0</td>\n",
       "      <td>I got 3 bitcoin for my pancreas</td>\n",
       "    </tr>\n",
       "    <tr>\n",
       "      <th>3</th>\n",
       "      <td>52671</td>\n",
       "      <td>4354916</td>\n",
       "      <td>9.172289e+17</td>\n",
       "      <td>2017-10-09 01:22:54+00</td>\n",
       "      <td>JAIROGLYPHIC_JR</td>\n",
       "      <td>0.0</td>\n",
       "      <td>0.0</td>\n",
       "      <td>0.0</td>\n",
       "      <td>@GenesisMining when will there be more btc min...</td>\n",
       "    </tr>\n",
       "    <tr>\n",
       "      <th>4</th>\n",
       "      <td>61020</td>\n",
       "      <td>4250362</td>\n",
       "      <td>9.176055e+17</td>\n",
       "      <td>2017-10-10 02:19:46+00</td>\n",
       "      <td>sskknn00</td>\n",
       "      <td>0.0</td>\n",
       "      <td>0.0</td>\n",
       "      <td>0.0</td>\n",
       "      <td>yep they are not calling btc-core BTC, how dar...</td>\n",
       "    </tr>\n",
       "  </tbody>\n",
       "</table>\n",
       "</div>"
      ],
      "text/plain": [
       "   Unnamed: 0.1  Unnamed: 0            id               timestamp  \\\n",
       "0        105027     5625766  9.393023e+17  2017-12-09 00:14:51+00   \n",
       "1         36386     2251044  8.857079e+17  2017-07-14 01:49:54+00   \n",
       "2        141547     3797663  9.607030e+17  2018-02-06 01:33:36+00   \n",
       "3         52671     4354916  9.172289e+17  2017-10-09 01:22:54+00   \n",
       "4         61020     4250362  9.176055e+17  2017-10-10 02:19:46+00   \n",
       "\n",
       "              user  replies  likes  retweets  \\\n",
       "0      BitcoinPoll      0.0    0.0       0.0   \n",
       "1     aimanstronk_      0.0    0.0       0.0   \n",
       "2        WBlizters      0.0    1.0       0.0   \n",
       "3  JAIROGLYPHIC_JR      0.0    0.0       0.0   \n",
       "4         sskknn00      0.0    0.0       0.0   \n",
       "\n",
       "                                                text  \n",
       "0  $LTC to doubled its value soon? #Litecoins #bi...  \n",
       "1  Tukar ke bitcoin. Lpstu tukar bitcoin ke RM. s...  \n",
       "2                    I got 3 bitcoin for my pancreas  \n",
       "3  @GenesisMining when will there be more btc min...  \n",
       "4  yep they are not calling btc-core BTC, how dar...  "
      ]
     },
     "execution_count": 4,
     "metadata": {},
     "output_type": "execute_result"
    }
   ],
   "source": [
    "# TODO: Read in the tweets.csv file to a variable df\n",
    "df = pd.read_csv('Tweets.csv')\n",
    "# TODO: Preview the df using .head()\n",
    "df.head()"
   ]
  },
  {
   "cell_type": "markdown",
   "metadata": {},
   "source": [
    "### Calculating Polarity\n",
    "\n",
    "Next, we'll move into calculating the polarity scores for the various rows of text. We'll first grab a single row of the dataset to run on the `.polarity_scores()` function of the `analyzer` in order to make sure we have set up everything correctly. From there, we'll scale up to calculating the polarity scores for the entire dataset before moving into analyzing the distribution of sentiment.\n",
    "\n",
    "- Create a `sample_text` variable by selecting the text column from the data on the first row\n",
    "- Use the analyzer's `.polarity_scores()` method to score the `sample_text`. Note the value returned is a dictionary\n",
    "- Create a new variable `text_data` from the \"text\" column in `df`. Ensure that the data in the column is a string by using .astype() with the \"str\" argument.\n",
    "- Use the .apply() method on `text_data` to use a analyzer.polarity_scores on each row of the `text_data` column. Store the result into a new variable `raw_scores`\n",
    "- Use the `list()` method to cast `raw_scores` as a list, and then make a new dataframe using `pd.DataFrame()`. Store this into a variable `scores_df`\n",
    "- Preview `scores_df` using .head()\n",
    "- Create a new column for `df` called \"compound_sentiment\" using the `scores_df` column for `\"compound\"`\n",
    "- Preview the updated `df` dataframe"
   ]
  },
  {
   "cell_type": "code",
   "execution_count": 5,
   "metadata": {},
   "outputs": [
    {
     "data": {
      "text/plain": [
       "{'neg': 0.0, 'neu': 0.769, 'pos': 0.231, 'compound': 0.34}"
      ]
     },
     "execution_count": 5,
     "metadata": {},
     "output_type": "execute_result"
    }
   ],
   "source": [
    "# TODO: Select a single row from the dataframe and select the text column. Store this as a variable `sample_text`\n",
    "sample_text = df.loc[0,'text']\n",
    "# TODO: calculate polarity scores for the `sample_text`\n",
    "analyzer.polarity_scores(sample_text)"
   ]
  },
  {
   "cell_type": "code",
   "execution_count": 6,
   "metadata": {},
   "outputs": [
    {
     "data": {
      "text/html": [
       "<div>\n",
       "<style scoped>\n",
       "    .dataframe tbody tr th:only-of-type {\n",
       "        vertical-align: middle;\n",
       "    }\n",
       "\n",
       "    .dataframe tbody tr th {\n",
       "        vertical-align: top;\n",
       "    }\n",
       "\n",
       "    .dataframe thead th {\n",
       "        text-align: right;\n",
       "    }\n",
       "</style>\n",
       "<table border=\"1\" class=\"dataframe\">\n",
       "  <thead>\n",
       "    <tr style=\"text-align: right;\">\n",
       "      <th></th>\n",
       "      <th>neg</th>\n",
       "      <th>neu</th>\n",
       "      <th>pos</th>\n",
       "      <th>compound</th>\n",
       "    </tr>\n",
       "  </thead>\n",
       "  <tbody>\n",
       "    <tr>\n",
       "      <th>0</th>\n",
       "      <td>0.000</td>\n",
       "      <td>0.769</td>\n",
       "      <td>0.231</td>\n",
       "      <td>0.3400</td>\n",
       "    </tr>\n",
       "    <tr>\n",
       "      <th>1</th>\n",
       "      <td>0.000</td>\n",
       "      <td>0.888</td>\n",
       "      <td>0.112</td>\n",
       "      <td>0.2263</td>\n",
       "    </tr>\n",
       "    <tr>\n",
       "      <th>2</th>\n",
       "      <td>0.000</td>\n",
       "      <td>1.000</td>\n",
       "      <td>0.000</td>\n",
       "      <td>0.0000</td>\n",
       "    </tr>\n",
       "    <tr>\n",
       "      <th>3</th>\n",
       "      <td>0.000</td>\n",
       "      <td>1.000</td>\n",
       "      <td>0.000</td>\n",
       "      <td>0.0000</td>\n",
       "    </tr>\n",
       "    <tr>\n",
       "      <th>4</th>\n",
       "      <td>0.432</td>\n",
       "      <td>0.480</td>\n",
       "      <td>0.088</td>\n",
       "      <td>-0.8622</td>\n",
       "    </tr>\n",
       "  </tbody>\n",
       "</table>\n",
       "</div>"
      ],
      "text/plain": [
       "     neg    neu    pos  compound\n",
       "0  0.000  0.769  0.231    0.3400\n",
       "1  0.000  0.888  0.112    0.2263\n",
       "2  0.000  1.000  0.000    0.0000\n",
       "3  0.000  1.000  0.000    0.0000\n",
       "4  0.432  0.480  0.088   -0.8622"
      ]
     },
     "execution_count": 6,
     "metadata": {},
     "output_type": "execute_result"
    }
   ],
   "source": [
    "# TODO: create a series of the \"text\" column from the `df` dataframe. store this to a variable text_data\n",
    "text_data = df['text']\n",
    "# TODO: calculate polarity scores for all rows of the `text` column using .apply() and store in a new variable called \"raw_scores\". Make sure that you use a lambda function with polarity scores, and that you cast the row as a string using str().\n",
    "raw_scores = text_data.apply(lambda x:analyzer.polarity_scores(str(x))) \n",
    "# TODO: create a new dataframe `scores_df` by casting `raw_scores` as a list, then using `pd.DataFrame()` on the new list\n",
    "scores_df = pd.DataFrame(list(raw_scores))\n",
    "# TODO: Preview `scores_df` using .head()\n",
    "scores_df.head()"
   ]
  },
  {
   "cell_type": "code",
   "execution_count": 7,
   "metadata": {},
   "outputs": [],
   "source": [
    "# TODO: create a new column `\"compound_sentiment\"` on the `df` dataframe from the `scores_df`'s column for `\"compound\"`\n",
    "df['compound_sentiment']= scores_df['compound']"
   ]
  },
  {
   "cell_type": "code",
   "execution_count": 8,
   "metadata": {},
   "outputs": [
    {
     "data": {
      "text/html": [
       "<div>\n",
       "<style scoped>\n",
       "    .dataframe tbody tr th:only-of-type {\n",
       "        vertical-align: middle;\n",
       "    }\n",
       "\n",
       "    .dataframe tbody tr th {\n",
       "        vertical-align: top;\n",
       "    }\n",
       "\n",
       "    .dataframe thead th {\n",
       "        text-align: right;\n",
       "    }\n",
       "</style>\n",
       "<table border=\"1\" class=\"dataframe\">\n",
       "  <thead>\n",
       "    <tr style=\"text-align: right;\">\n",
       "      <th></th>\n",
       "      <th>Unnamed: 0.1</th>\n",
       "      <th>Unnamed: 0</th>\n",
       "      <th>id</th>\n",
       "      <th>timestamp</th>\n",
       "      <th>user</th>\n",
       "      <th>replies</th>\n",
       "      <th>likes</th>\n",
       "      <th>retweets</th>\n",
       "      <th>text</th>\n",
       "      <th>compound_sentiment</th>\n",
       "    </tr>\n",
       "  </thead>\n",
       "  <tbody>\n",
       "    <tr>\n",
       "      <th>0</th>\n",
       "      <td>105027</td>\n",
       "      <td>5625766</td>\n",
       "      <td>9.393023e+17</td>\n",
       "      <td>2017-12-09 00:14:51+00</td>\n",
       "      <td>BitcoinPoll</td>\n",
       "      <td>0.0</td>\n",
       "      <td>0.0</td>\n",
       "      <td>0.0</td>\n",
       "      <td>$LTC to doubled its value soon? #Litecoins #bi...</td>\n",
       "      <td>0.3400</td>\n",
       "    </tr>\n",
       "    <tr>\n",
       "      <th>1</th>\n",
       "      <td>36386</td>\n",
       "      <td>2251044</td>\n",
       "      <td>8.857079e+17</td>\n",
       "      <td>2017-07-14 01:49:54+00</td>\n",
       "      <td>aimanstronk_</td>\n",
       "      <td>0.0</td>\n",
       "      <td>0.0</td>\n",
       "      <td>0.0</td>\n",
       "      <td>Tukar ke bitcoin. Lpstu tukar bitcoin ke RM. s...</td>\n",
       "      <td>0.2263</td>\n",
       "    </tr>\n",
       "    <tr>\n",
       "      <th>2</th>\n",
       "      <td>141547</td>\n",
       "      <td>3797663</td>\n",
       "      <td>9.607030e+17</td>\n",
       "      <td>2018-02-06 01:33:36+00</td>\n",
       "      <td>WBlizters</td>\n",
       "      <td>0.0</td>\n",
       "      <td>1.0</td>\n",
       "      <td>0.0</td>\n",
       "      <td>I got 3 bitcoin for my pancreas</td>\n",
       "      <td>0.0000</td>\n",
       "    </tr>\n",
       "    <tr>\n",
       "      <th>3</th>\n",
       "      <td>52671</td>\n",
       "      <td>4354916</td>\n",
       "      <td>9.172289e+17</td>\n",
       "      <td>2017-10-09 01:22:54+00</td>\n",
       "      <td>JAIROGLYPHIC_JR</td>\n",
       "      <td>0.0</td>\n",
       "      <td>0.0</td>\n",
       "      <td>0.0</td>\n",
       "      <td>@GenesisMining when will there be more btc min...</td>\n",
       "      <td>0.0000</td>\n",
       "    </tr>\n",
       "    <tr>\n",
       "      <th>4</th>\n",
       "      <td>61020</td>\n",
       "      <td>4250362</td>\n",
       "      <td>9.176055e+17</td>\n",
       "      <td>2017-10-10 02:19:46+00</td>\n",
       "      <td>sskknn00</td>\n",
       "      <td>0.0</td>\n",
       "      <td>0.0</td>\n",
       "      <td>0.0</td>\n",
       "      <td>yep they are not calling btc-core BTC, how dar...</td>\n",
       "      <td>-0.8622</td>\n",
       "    </tr>\n",
       "  </tbody>\n",
       "</table>\n",
       "</div>"
      ],
      "text/plain": [
       "   Unnamed: 0.1  Unnamed: 0            id               timestamp  \\\n",
       "0        105027     5625766  9.393023e+17  2017-12-09 00:14:51+00   \n",
       "1         36386     2251044  8.857079e+17  2017-07-14 01:49:54+00   \n",
       "2        141547     3797663  9.607030e+17  2018-02-06 01:33:36+00   \n",
       "3         52671     4354916  9.172289e+17  2017-10-09 01:22:54+00   \n",
       "4         61020     4250362  9.176055e+17  2017-10-10 02:19:46+00   \n",
       "\n",
       "              user  replies  likes  retweets  \\\n",
       "0      BitcoinPoll      0.0    0.0       0.0   \n",
       "1     aimanstronk_      0.0    0.0       0.0   \n",
       "2        WBlizters      0.0    1.0       0.0   \n",
       "3  JAIROGLYPHIC_JR      0.0    0.0       0.0   \n",
       "4         sskknn00      0.0    0.0       0.0   \n",
       "\n",
       "                                                text  compound_sentiment  \n",
       "0  $LTC to doubled its value soon? #Litecoins #bi...              0.3400  \n",
       "1  Tukar ke bitcoin. Lpstu tukar bitcoin ke RM. s...              0.2263  \n",
       "2                    I got 3 bitcoin for my pancreas              0.0000  \n",
       "3  @GenesisMining when will there be more btc min...              0.0000  \n",
       "4  yep they are not calling btc-core BTC, how dar...             -0.8622  "
      ]
     },
     "execution_count": 8,
     "metadata": {},
     "output_type": "execute_result"
    }
   ],
   "source": [
    "# TODO: preview results with head. You should have a new compound_sentiment column.\n",
    "df.head()"
   ]
  },
  {
   "cell_type": "markdown",
   "metadata": {},
   "source": [
    "### Analyze Sentiment\n",
    "\n",
    "Now that we've calculated sentiment scores for our sample, we can now move onto analyzing the results. We'll first plot the density of scores so that we can visualize if there is overweighting to one side or another in terms of sentiment, before calculating the number of rows that have positive or negative sentiment."
   ]
  },
  {
   "cell_type": "code",
   "execution_count": 9,
   "metadata": {},
   "outputs": [
    {
     "data": {
      "text/plain": [
       "<AxesSubplot:ylabel='Density'>"
      ]
     },
     "execution_count": 9,
     "metadata": {},
     "output_type": "execute_result"
    },
    {
     "data": {
      "image/png": "[encoded data removed]",
      "text/plain": [
       "<Figure size 432x288 with 1 Axes>"
      ]
     },
     "metadata": {
      "needs_background": "light"
     },
     "output_type": "display_data"
    }
   ],
   "source": [
    "# TODO: create a density plot of compound sentiment column\n",
    "df['compound_sentiment'].plot(kind='density')"
   ]
  },
  {
   "cell_type": "markdown",
   "metadata": {},
   "source": [
    "At this point, would you say that your sample is more positive or negative in sentiment?\n",
    "> More positive"
   ]
  },
  {
   "cell_type": "code",
   "execution_count": 10,
   "metadata": {},
   "outputs": [
    {
     "data": {
      "text/plain": [
       "Unnamed: 0.1          1005\n",
       "Unnamed: 0            1005\n",
       "id                    1005\n",
       "timestamp             1005\n",
       "user                  1005\n",
       "replies               1005\n",
       "likes                 1005\n",
       "retweets              1005\n",
       "text                  1005\n",
       "compound_sentiment    1005\n",
       "dtype: int64"
      ]
     },
     "execution_count": 10,
     "metadata": {},
     "output_type": "execute_result"
    }
   ],
   "source": [
    "# TODO: .count() rows with compound_sentiment above 0.5\n",
    "df[df[\"compound_sentiment\"] > 0.5].count()"
   ]
  },
  {
   "cell_type": "code",
   "execution_count": 11,
   "metadata": {},
   "outputs": [
    {
     "data": {
      "text/plain": [
       "Unnamed: 0.1          350\n",
       "Unnamed: 0            350\n",
       "id                    350\n",
       "timestamp             350\n",
       "user                  350\n",
       "replies               350\n",
       "likes                 350\n",
       "retweets              350\n",
       "text                  350\n",
       "compound_sentiment    350\n",
       "dtype: int64"
      ]
     },
     "execution_count": 11,
     "metadata": {},
     "output_type": "execute_result"
    }
   ],
   "source": [
    "# TODO: .count() rows with compound_sentiment below -0.5\n",
    "df[df[\"compound_sentiment\"] < -0.5].count()"
   ]
  },
  {
   "cell_type": "markdown",
   "metadata": {},
   "source": [
    "Are more of your tweet positive or negative?\n",
    "> Positive\n",
    "\n",
    "Would you consider your weighting of positive or negative to be _overwhelmingly_ one direction or another? For context, recall that typically the vast majority of text will have a neutral tone in VADER sentiment analysis.\n",
    "> Not overwhelmingling"
   ]
  },
  {
   "cell_type": "markdown",
   "metadata": {},
   "source": [
    "----\n",
    "\n",
    "## Part 2: Spacy Word Dependency Analysis"
   ]
  },
  {
   "cell_type": "markdown",
   "metadata": {},
   "source": [
    "### Spacy Model Setup\n",
    "\n",
    "We'll now move into identifying the most frequently used adjectives for this particular cryptocurrency. Where we previously captured the sentiment using the VADER model in nltk and allows us to explore the overall feeling of communications, the spacy library can enable us to explore the specific words that people use in conjunction. \n",
    "\n",
    "In our assignment, we're interested in how people are describing bitcoin and cryptocurrencies as a whole so that our marketing department can develop copy around language commonly used by users in the space.\n",
    "\n",
    "We'll first instantiate our spacy model and load the English toolkit, before moving on to define our list of nouns that are relevant to our search for adjectives. \n",
    "\n",
    "- Instantiate a `spacy_model` variable using the .load() function in `spacy`, utilizing the \"en_core_web_sm\" language library.\n",
    "- Create a list of the ways that the nouns for bitcoin and cryptocurrencies may be represented in language in this dataset. Common occurances would be \"btc\", \"bitcoin\", \"crypto\", and \"cryptocurrency\", but feel free to add your own! Be wary of adding more than six nouns to the list, however, as the longer you make this list, the longer it will take to search your corpus. In a more realistic analysis, you would have the resources to try a longer set of variations on these words."
   ]
  },
  {
   "cell_type": "code",
   "execution_count": 12,
   "metadata": {},
   "outputs": [],
   "source": [
    "# TODO: Instantiate a spacy model with .load() and use \"en_core_web_sm\"\n",
    "spacy_model = spacy.load(\"en_core_web_sm\")"
   ]
  },
  {
   "cell_type": "code",
   "execution_count": 13,
   "metadata": {},
   "outputs": [],
   "source": [
    "# TODO: Create a list of the ways \"bitcoin\" may be represented in text, and store in a variable bitcoin_words.\n",
    "bitcoin_words = [\n",
    "    \"btc\", \"bitcoin\", \"crypto\",\"cryptocurrency\", \"digital currency\", \"decentralized currency\"  \n",
    "]"
   ]
  },
  {
   "cell_type": "code",
   "execution_count": 14,
   "metadata": {},
   "outputs": [],
   "source": [
    "# Nothing to do here, your function is already created!\n",
    "# Provided Code -- Do NOT Edit!\n",
    "def bitcoin_adjectives(corpus, target_words, expressive):\n",
    "    \n",
    "    # Extracts adjectives describing a set of target words within a corpus, and returns a list of all of the results    \n",
    "    results = []\n",
    "    \n",
    "    for doc in corpus:\n",
    "        for token in spacy_model(doc):\n",
    "        \n",
    "            if(expressive):\n",
    "                print(token.text)\n",
    "                print(token.pos_)\n",
    "                print(token.head.text)\n",
    "                print(\"\")\n",
    "\n",
    "            if token.pos_ == \"ADJ\" and token.head.text in target_words:\n",
    "                results.append(token.text)\n",
    "                \n",
    "    return results"
   ]
  },
  {
   "cell_type": "markdown",
   "metadata": {},
   "source": [
    "### Using our Function\n",
    "\n",
    "We're finally ready to get started running our function! We'll first run it against a sample bit of text to confirm it works as expected. Pass the provided passage as an a rgument into the `bitcoin_adjectives` function.\n",
    "\n",
    "- Store the passage into a variable called `test_text`.\n",
    "- Pass the variable along with the `bitcoin_words` array into the `bitcoin_adjectives` function.\n",
    "- Note the array of adjectives returned. \n",
    "\n",
    "*Provided Passages*\n",
    "\"The investors leaped for joy at their enormously profitable bitcoin.\""
   ]
  },
  {
   "cell_type": "code",
   "execution_count": 15,
   "metadata": {},
   "outputs": [],
   "source": [
    "# TODO: Create a variable called `test_text` to store the provided passage within an array. \n",
    "test_text = (\"The investors leaped for joy at their enormously profitable bitcoin.\")"
   ]
  },
  {
   "cell_type": "code",
   "execution_count": 16,
   "metadata": {},
   "outputs": [
    {
     "name": "stdout",
     "output_type": "stream",
     "text": [
      "The\n",
      "DET\n",
      "investors\n",
      "\n",
      "investors\n",
      "NOUN\n",
      "leaped\n",
      "\n",
      "leaped\n",
      "VERB\n",
      "leaped\n",
      "\n",
      "for\n",
      "ADP\n",
      "leaped\n",
      "\n",
      "joy\n",
      "NOUN\n",
      "for\n",
      "\n",
      "at\n",
      "ADP\n",
      "leaped\n",
      "\n",
      "their\n",
      "PRON\n",
      "bitcoin\n",
      "\n",
      "enormously\n",
      "ADV\n",
      "profitable\n",
      "\n",
      "profitable\n",
      "ADJ\n",
      "bitcoin\n",
      "\n",
      "bitcoin\n",
      "NOUN\n",
      "at\n",
      "\n",
      ".\n",
      "PUNCT\n",
      "leaped\n",
      "\n"
     ]
    },
    {
     "data": {
      "text/plain": [
       "['profitable']"
      ]
     },
     "execution_count": 16,
     "metadata": {},
     "output_type": "execute_result"
    }
   ],
   "source": [
    "# TODO: Pass the necessary variables into the bitcoin_adjectives function to test and display your results. \n",
    "bitcoin_adjectives([test_text], bitcoin_words, expressive=True)"
   ]
  },
  {
   "cell_type": "markdown",
   "metadata": {},
   "source": [
    "### Spacy model scale-up\n",
    "\n",
    "In the next steps, we'll repeat our usage of `bitcoin_adjectives()` for the entire dataset. We'll store the results of this function into a variable `adjectives`, and use the `Counter()` class from the `collections` library to help us find the `most_common()` adjectives used in the dataset.\n",
    "\n",
    "- Select the \"text\" column of the `df` dataframe, and store as a variable `text_data`\n",
    "- Call `bitcoin_adjectives()` on the full dataset by passing the arguments for `text_data` and `bitcoin_words`. Make sure to store the results to a variable `adjectives`. **WARNING: This is a computationally heavy step - make sure your computer is plugged in, and be prepared to wait for a bit on this step**\n",
    "- The results in adjectives may look like text, but are in fact `spacy` tokens. Loop over the `adjectives` list and extract the token's `text` property, and force it to lower-case using `.lower()`. This can be accomplished with either a traditional for loop or a list comprehension, which we have shown in class. Make sure to store the results into a variable `adjective_extract`\n",
    "- Use `Counter()` on the `adjective_extract` variable, and store the result into a variable `counter`.\n",
    "- Use the `most_common()` method on `counter` to produce a list of the most commonly used adjectives, with their frequencies.\n",
    "\n"
   ]
  },
  {
   "cell_type": "code",
   "execution_count": 17,
   "metadata": {},
   "outputs": [
    {
     "data": {
      "text/plain": [
       "['fastest',\n",
       " 'bitcoin',\n",
       " 'legal',\n",
       " 'ripple',\n",
       " 'whole',\n",
       " 'least',\n",
       " 'bullish',\n",
       " 'ETHEREUM',\n",
       " 'square',\n",
       " 'small',\n",
       " 'albania',\n",
       " '1hr',\n",
       " 'UGT',\n",
       " 'political',\n",
       " 'free',\n",
       " 'original',\n",
       " 'Serious',\n",
       " 'single',\n",
       " 'square',\n",
       " 'Litecoin',\n",
       " 'X2',\n",
       " 'scr4sat',\n",
       " 'free',\n",
       " '@realDonaldTrump',\n",
       " 'first',\n",
       " 'major',\n",
       " 'crypto',\n",
       " 'Forgot',\n",
       " 'freetoken',\n",
       " 'next',\n",
       " 'crypto',\n",
       " 'roundtable',\n",
       " 'bitcoin',\n",
       " 'hodl',\n",
       " 'large',\n",
       " 'illegal',\n",
       " 'cryptocurrencypic.twitter.com/NxnNiDQ3QJ',\n",
       " 'crypto',\n",
       " 'free',\n",
       " 'industrial',\n",
       " 'first',\n",
       " 'financial',\n",
       " '@jimcramer',\n",
       " 'higher',\n",
       " 'daily',\n",
       " 'triplicamos',\n",
       " 'many',\n",
       " 'crypto',\n",
       " 'regale',\n",
       " 'free',\n",
       " 'digital',\n",
       " 'free',\n",
       " 'short',\n",
       " 'safe',\n",
       " 'largest',\n",
       " 'other',\n",
       " 'outta',\n",
       " 'good',\n",
       " 'crypto',\n",
       " 'real',\n",
       " 'theboss',\n",
       " 'enough',\n",
       " 'hodl',\n",
       " 'bitcoin',\n",
       " 'little',\n",
       " 'healthy',\n",
       " 'alternative',\n",
       " 'short',\n",
       " 're',\n",
       " 'crypto',\n",
       " 'whole',\n",
       " 'old',\n",
       " 'bitconnect',\n",
       " 'Crypto',\n",
       " 'Ripple',\n",
       " 'IoT',\n",
       " 'bitcoin',\n",
       " 'free',\n",
       " 'popular',\n",
       " 'open',\n",
       " 'ripple',\n",
       " 'i.e',\n",
       " 'short',\n",
       " 'other',\n",
       " 'makeyourownlane',\n",
       " 'pic.twitter.com/DC5o07Sg0B',\n",
       " 'real',\n",
       " 'blockchain',\n",
       " 'bubblepic.twitter.com/lBgK25U9ex',\n",
       " 'bitcoin',\n",
       " 'LitecoinFampic.twitter.com/2uz57A8RIk',\n",
       " 'real',\n",
       " 'worth',\n",
       " 'fast',\n",
       " 'bullish',\n",
       " 'spare',\n",
       " 'short',\n",
       " 'bitcoin',\n",
       " 'positive',\n",
       " 'cherished',\n",
       " 'crypto',\n",
       " 'stupid',\n",
       " 'freetoken',\n",
       " 'crypto',\n",
       " 'short',\n",
       " 'bg',\n",
       " 'important',\n",
       " 'more',\n",
       " 'same',\n",
       " 'Same',\n",
       " 'bitcoinban',\n",
       " 'USDJPY',\n",
       " 'stellar',\n",
       " 'USDJPY',\n",
       " 'token',\n",
       " 'crypto',\n",
       " 'angl',\n",
       " 'uis',\n",
       " 'good',\n",
       " 'ripple',\n",
       " 'bca',\n",
       " 'scrypt',\n",
       " 'polski',\n",
       " 'valuable',\n",
       " 'Crypto',\n",
       " 'Ripple',\n",
       " 'little',\n",
       " 'ven',\n",
       " 'litecoin',\n",
       " 'long',\n",
       " 'bitcoin',\n",
       " 'many',\n",
       " 'big',\n",
       " 'poll',\n",
       " 'bullish',\n",
       " 'Selemah',\n",
       " '@maxkeiser',\n",
       " '-18',\n",
       " 'much',\n",
       " 'btcusd',\n",
       " 'single',\n",
       " 'blockchian',\n",
       " 'penultimate',\n",
       " 'lombong',\n",
       " 'free',\n",
       " 'bullrunpic.twitter.com/IxyIi8KlHd',\n",
       " 'cheap',\n",
       " 'Altcoinspic.twitter.com/ixoSr5Vj9x',\n",
       " 'richer',\n",
       " 'bitcoin',\n",
       " 'tokenfest',\n",
       " 'same',\n",
       " 'entire',\n",
       " 'ill',\n",
       " 'crypto',\n",
       " 'potential',\n",
       " 'bitcoin',\n",
       " 'bad',\n",
       " 'Best',\n",
       " 'short',\n",
       " '4hr',\n",
       " 'rare']"
      ]
     },
     "execution_count": 17,
     "metadata": {},
     "output_type": "execute_result"
    }
   ],
   "source": [
    "# TODO: Select the \"text\" column of df, and store as a variable text_data\n",
    "text_data = df['text']\n",
    "# TODO: Use bitcoin_adjectives on your sample data, and store the results into a variable \"adjectives\"\n",
    "adjectives = bitcoin_adjectives(text_data, bitcoin_words, expressive=False)\n",
    "# TODO: Display the adjectives list you generate.  \n",
    "adjectives"
   ]
  },
  {
   "cell_type": "code",
   "execution_count": 18,
   "metadata": {},
   "outputs": [
    {
     "data": {
      "text/plain": [
       "[('bitcoin', 18),\n",
       " ('crypto', 14),\n",
       " ('free', 13),\n",
       " ('btcusd', 6),\n",
       " ('short', 6),\n",
       " ('much', 5),\n",
       " ('ripple', 5),\n",
       " ('worth', 4),\n",
       " ('complete', 4),\n",
       " ('more', 4),\n",
       " ('litecoin', 4),\n",
       " ('whole', 3),\n",
       " ('new', 3),\n",
       " ('many', 3),\n",
       " ('blockchain', 3),\n",
       " ('global', 3),\n",
       " ('digital', 3),\n",
       " ('giveaway', 2),\n",
       " ('least', 2),\n",
       " ('fuckfiatcurrency', 2),\n",
       " ('small', 2),\n",
       " ('original', 2),\n",
       " ('serious', 2),\n",
       " ('single', 2),\n",
       " ('next', 2),\n",
       " ('illegal', 2),\n",
       " ('ultima', 2),\n",
       " ('good', 2),\n",
       " ('hodl', 2),\n",
       " ('enough', 2),\n",
       " ('dlt', 2),\n",
       " ('old', 2),\n",
       " ('bitconnect', 2),\n",
       " ('high', 2),\n",
       " ('bullish', 2),\n",
       " ('available', 2),\n",
       " ('fastest', 1),\n",
       " ('fyi', 1),\n",
       " ('easy', 1),\n",
       " ('likely', 1),\n",
       " ('albania', 1),\n",
       " ('blockchainpic.twitter.com/k3so1purzw', 1),\n",
       " ('profitable', 1),\n",
       " ('political', 1),\n",
       " ('bithumb', 1),\n",
       " ('poloniexpic.twitter.com/loszmuenrc', 1),\n",
       " ('similar', 1),\n",
       " ('scr4sat', 1),\n",
       " ('coinfest', 1),\n",
       " ('crazy', 1),\n",
       " ('unused', 1),\n",
       " ('mine', 1),\n",
       " ('industrial', 1),\n",
       " ('financial', 1),\n",
       " ('@jimcramer', 1),\n",
       " ('cryptocurrencypic.twitter.com/7hfihv1ost', 1),\n",
       " ('higher', 1),\n",
       " ('white', 1),\n",
       " ('bitfinex', 1),\n",
       " ('payza', 1),\n",
       " ('daily', 1),\n",
       " ('super', 1),\n",
       " ('regale', 1),\n",
       " ('anti', 1),\n",
       " ('cryptocurrencypic.twitter.com/cogs1bau2x', 1),\n",
       " ('underlying', 1),\n",
       " ('real', 1),\n",
       " ('true', 1),\n",
       " ('private', 1),\n",
       " ('healthy', 1),\n",
       " ('faster', 1),\n",
       " ('re', 1),\n",
       " ('only', 1),\n",
       " ('back', 1),\n",
       " ('blijft', 1),\n",
       " ('ether', 1),\n",
       " ('zec', 1),\n",
       " ('usdt', 1),\n",
       " ('open', 1),\n",
       " ('future', 1),\n",
       " ('i.e', 1),\n",
       " ('pnzi', 1),\n",
       " ('makeyourownlane', 1),\n",
       " ('sundaybrunchpic.twitter.com/7b9h3pfsii', 1),\n",
       " ('filthy', 1),\n",
       " ('fast', 1),\n",
       " ('wtffff', 1),\n",
       " ('positive', 1),\n",
       " ('simulated', 1),\n",
       " ('commercial', 1),\n",
       " ('ethereumclassic', 1),\n",
       " ('fun', 1),\n",
       " ('bg', 1),\n",
       " ('important', 1),\n",
       " ('same', 1),\n",
       " ('mmmextra', 1),\n",
       " ('bitcoinban', 1),\n",
       " ('+', 1),\n",
       " ('token', 1),\n",
       " ('current', 1)]"
      ]
     },
     "execution_count": 18,
     "metadata": {},
     "output_type": "execute_result"
    }
   ],
   "source": [
    "# TODO: Extract the lowercase text of the token for each token in the adjectives list into a new variable `adjective_extract`\n",
    "adjective_extract = []\n",
    "for adjective in text_data:\n",
    "    adjective_extract_doc = spacy_model(adjective.lower())\n",
    "\n",
    "\n",
    "    for token in adjective_extract_doc:\n",
    "        if token.pos_ ==\"ADJ\" and token.head.text == \"bitcoin\":\n",
    "            adjective_extract.append(token.text)\n",
    "\n",
    "# TODO: Instantiate a new Counter() using `adjective_extract`, and store into a variable `counter`\n",
    "counter = Counter(adjective_extract)\n",
    "# TODO: Use counter's .most_common() method to view the top 100 most frequently used modifiers of the noun bitcoin\n",
    "counter.most_common(100)"
   ]
  },
  {
   "cell_type": "code",
   "execution_count": null,
   "metadata": {},
   "outputs": [],
   "source": []
  }
 ],
 "metadata": {
  "interpreter": {
   "hash": "a8383eef294e6eb532b9a275f580f77018a4c5ddf6bd4ca154421d62e44b7362"
  },
  "kernelspec": {
   "display_name": "Python 3 (ipykernel)",
   "language": "python",
   "name": "python3"
  },
  "language_info": {
   "codemirror_mode": {
    "name": "ipython",
    "version": 3
   },
   "file_extension": ".py",
   "mimetype": "text/x-python",
   "name": "python",
   "nbconvert_exporter": "python",
   "pygments_lexer": "ipython3",
   "version": "3.9.12"
  }
 },
 "nbformat": 4,
 "nbformat_minor": 4
}
